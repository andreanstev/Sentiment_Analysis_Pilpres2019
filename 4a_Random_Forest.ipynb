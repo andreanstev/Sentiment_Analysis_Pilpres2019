{
 "cells": [
  {
   "cell_type": "code",
   "execution_count": 28,
   "id": "414e4df0-f5d2-4198-bb5f-ba6a9417d3d9",
   "metadata": {},
   "outputs": [],
   "source": [
    "import numpy as np\n",
    "import pandas as pd\n",
    "from joblib import dump, load\n",
    "import matplotlib.pyplot as plt\n",
    "from sklearn.ensemble import RandomForestClassifier\n",
    "from sklearn.metrics import accuracy_score,classification_report,confusion_matrix, ConfusionMatrixDisplay\n",
    "from sklearn.model_selection import RandomizedSearchCV"
   ]
  },
  {
   "cell_type": "markdown",
   "id": "d12450d4-aedd-4744-a44a-f84046e2a885",
   "metadata": {},
   "source": [
    "# Load Data"
   ]
  },
  {
   "cell_type": "code",
   "execution_count": 3,
   "id": "86d17afa-a7b8-4a59-adb3-89673f70bec3",
   "metadata": {},
   "outputs": [],
   "source": [
    "df_train = pd.read_csv(\"X_train_stemm_cleaned.csv\")\n",
    "df_valid = pd.read_csv(\"X_valid_stemm_cleaned.csv\")\n",
    "df_test = pd.read_csv(\"X_test_stemm_cleaned.csv\")\n",
    "\n",
    "X_train_clean = df_train['tweet_stemming']\n",
    "X_valid_clean = df_valid['tweet_stemming']\n",
    "X_test_clean = df_test['tweet_stemming']\n",
    "\n",
    "y_train = pd.read_csv(\"y_train.csv\")\n",
    "y_valid = pd.read_csv(\"y_valid.csv\")\n",
    "y_test = pd.read_csv(\"y_test.csv\")"
   ]
  },
  {
   "cell_type": "code",
   "execution_count": 5,
   "id": "e70fdfbd-cb3f-446d-b044-df3d6f26cf36",
   "metadata": {},
   "outputs": [],
   "source": [
    "# Load model TF-IDF\n",
    "tfidf_vectorizer = load('tfidf_vectorizer.joblib')\n",
    "\n",
    "# transform set data dari load model tfidf yang telah disimpan\n",
    "X_train_tfidf = tfidf_vectorizer.transform(X_train_clean)\n",
    "X_valid_tfidf = tfidf_vectorizer.transform(X_valid_clean)\n",
    "X_test_tfidf = tfidf_vectorizer.transform(X_test_clean)"
   ]
  },
  {
   "cell_type": "markdown",
   "id": "a6d0209c-c894-4332-a726-3d8d2a0d5117",
   "metadata": {},
   "source": [
    "# Model Intialization"
   ]
  },
  {
   "cell_type": "code",
   "execution_count": 6,
   "id": "fa869733-5ae5-4f50-a15f-8dbeeb298ed1",
   "metadata": {},
   "outputs": [],
   "source": [
    "# insialisasi model random forest untuk klasifikasi\n",
    "random_forest = RandomForestClassifier(n_estimators = 100,\n",
    "                                       criterion = \"gini\",\n",
    "                                       max_features = \"sqrt\",\n",
    "                                       max_depth=6,\n",
    "                                       min_samples_leaf=8,\n",
    "                                       random_state = 123)"
   ]
  },
  {
   "cell_type": "code",
   "execution_count": 10,
   "id": "c724bdbf-b0ae-4e0d-8cd0-72f809daa671",
   "metadata": {},
   "outputs": [
    {
     "data": {
      "text/html": [
       "<style>#sk-container-id-2 {color: black;background-color: white;}#sk-container-id-2 pre{padding: 0;}#sk-container-id-2 div.sk-toggleable {background-color: white;}#sk-container-id-2 label.sk-toggleable__label {cursor: pointer;display: block;width: 100%;margin-bottom: 0;padding: 0.3em;box-sizing: border-box;text-align: center;}#sk-container-id-2 label.sk-toggleable__label-arrow:before {content: \"▸\";float: left;margin-right: 0.25em;color: #696969;}#sk-container-id-2 label.sk-toggleable__label-arrow:hover:before {color: black;}#sk-container-id-2 div.sk-estimator:hover label.sk-toggleable__label-arrow:before {color: black;}#sk-container-id-2 div.sk-toggleable__content {max-height: 0;max-width: 0;overflow: hidden;text-align: left;background-color: #f0f8ff;}#sk-container-id-2 div.sk-toggleable__content pre {margin: 0.2em;color: black;border-radius: 0.25em;background-color: #f0f8ff;}#sk-container-id-2 input.sk-toggleable__control:checked~div.sk-toggleable__content {max-height: 200px;max-width: 100%;overflow: auto;}#sk-container-id-2 input.sk-toggleable__control:checked~label.sk-toggleable__label-arrow:before {content: \"▾\";}#sk-container-id-2 div.sk-estimator input.sk-toggleable__control:checked~label.sk-toggleable__label {background-color: #d4ebff;}#sk-container-id-2 div.sk-label input.sk-toggleable__control:checked~label.sk-toggleable__label {background-color: #d4ebff;}#sk-container-id-2 input.sk-hidden--visually {border: 0;clip: rect(1px 1px 1px 1px);clip: rect(1px, 1px, 1px, 1px);height: 1px;margin: -1px;overflow: hidden;padding: 0;position: absolute;width: 1px;}#sk-container-id-2 div.sk-estimator {font-family: monospace;background-color: #f0f8ff;border: 1px dotted black;border-radius: 0.25em;box-sizing: border-box;margin-bottom: 0.5em;}#sk-container-id-2 div.sk-estimator:hover {background-color: #d4ebff;}#sk-container-id-2 div.sk-parallel-item::after {content: \"\";width: 100%;border-bottom: 1px solid gray;flex-grow: 1;}#sk-container-id-2 div.sk-label:hover label.sk-toggleable__label {background-color: #d4ebff;}#sk-container-id-2 div.sk-serial::before {content: \"\";position: absolute;border-left: 1px solid gray;box-sizing: border-box;top: 0;bottom: 0;left: 50%;z-index: 0;}#sk-container-id-2 div.sk-serial {display: flex;flex-direction: column;align-items: center;background-color: white;padding-right: 0.2em;padding-left: 0.2em;position: relative;}#sk-container-id-2 div.sk-item {position: relative;z-index: 1;}#sk-container-id-2 div.sk-parallel {display: flex;align-items: stretch;justify-content: center;background-color: white;position: relative;}#sk-container-id-2 div.sk-item::before, #sk-container-id-2 div.sk-parallel-item::before {content: \"\";position: absolute;border-left: 1px solid gray;box-sizing: border-box;top: 0;bottom: 0;left: 50%;z-index: -1;}#sk-container-id-2 div.sk-parallel-item {display: flex;flex-direction: column;z-index: 1;position: relative;background-color: white;}#sk-container-id-2 div.sk-parallel-item:first-child::after {align-self: flex-end;width: 50%;}#sk-container-id-2 div.sk-parallel-item:last-child::after {align-self: flex-start;width: 50%;}#sk-container-id-2 div.sk-parallel-item:only-child::after {width: 0;}#sk-container-id-2 div.sk-dashed-wrapped {border: 1px dashed gray;margin: 0 0.4em 0.5em 0.4em;box-sizing: border-box;padding-bottom: 0.4em;background-color: white;}#sk-container-id-2 div.sk-label label {font-family: monospace;font-weight: bold;display: inline-block;line-height: 1.2em;}#sk-container-id-2 div.sk-label-container {text-align: center;}#sk-container-id-2 div.sk-container {/* jupyter's `normalize.less` sets `[hidden] { display: none; }` but bootstrap.min.css set `[hidden] { display: none !important; }` so we also need the `!important` here to be able to override the default hidden behavior on the sphinx rendered scikit-learn.org. See: https://github.com/scikit-learn/scikit-learn/issues/21755 */display: inline-block !important;position: relative;}#sk-container-id-2 div.sk-text-repr-fallback {display: none;}</style><div id=\"sk-container-id-2\" class=\"sk-top-container\"><div class=\"sk-text-repr-fallback\"><pre>RandomForestClassifier(max_depth=6, min_samples_leaf=8, random_state=123)</pre><b>In a Jupyter environment, please rerun this cell to show the HTML representation or trust the notebook. <br />On GitHub, the HTML representation is unable to render, please try loading this page with nbviewer.org.</b></div><div class=\"sk-container\" hidden><div class=\"sk-item\"><div class=\"sk-estimator sk-toggleable\"><input class=\"sk-toggleable__control sk-hidden--visually\" id=\"sk-estimator-id-2\" type=\"checkbox\" checked><label for=\"sk-estimator-id-2\" class=\"sk-toggleable__label sk-toggleable__label-arrow\">RandomForestClassifier</label><div class=\"sk-toggleable__content\"><pre>RandomForestClassifier(max_depth=6, min_samples_leaf=8, random_state=123)</pre></div></div></div></div></div>"
      ],
      "text/plain": [
       "RandomForestClassifier(max_depth=6, min_samples_leaf=8, random_state=123)"
      ]
     },
     "execution_count": 10,
     "metadata": {},
     "output_type": "execute_result"
    }
   ],
   "source": [
    "# fit random forest model klasifikasi\n",
    "random_forest.fit(X_train_tfidf, np.ravel(y_train))"
   ]
  },
  {
   "cell_type": "code",
   "execution_count": 13,
   "id": "f794b562-684a-46c1-af23-61de6908cc54",
   "metadata": {},
   "outputs": [
    {
     "data": {
      "text/plain": [
       "0.6543307086614173"
      ]
     },
     "execution_count": 13,
     "metadata": {},
     "output_type": "execute_result"
    }
   ],
   "source": [
    "# score accuracy pada data train\n",
    "random_forest.score(X_train_tfidf, y_train)"
   ]
  },
  {
   "cell_type": "code",
   "execution_count": 19,
   "id": "c6b4d976-c5a7-49ce-bb91-ec9931dab0dc",
   "metadata": {},
   "outputs": [
    {
     "data": {
      "text/plain": [
       "0.5551470588235294"
      ]
     },
     "execution_count": 19,
     "metadata": {},
     "output_type": "execute_result"
    }
   ],
   "source": [
    "#score accuracy pada data test\n",
    "random_forest.score(X_test_tfidf, y_test)"
   ]
  },
  {
   "cell_type": "code",
   "execution_count": 14,
   "id": "86da7eaa-bd70-461b-975d-d98c3c31d460",
   "metadata": {},
   "outputs": [],
   "source": [
    "y_pred_rf = random_forest.predict(X_test_tfidf)"
   ]
  },
  {
   "cell_type": "code",
   "execution_count": 15,
   "id": "639bf3cd-5166-411c-b43a-ed83800a5ece",
   "metadata": {},
   "outputs": [
    {
     "name": "stdout",
     "output_type": "stream",
     "text": [
      "              precision    recall  f1-score   support\n",
      "\n",
      "     negatif       0.59      0.57      0.58        89\n",
      "      netral       0.54      0.57      0.55        91\n",
      "     positif       0.55      0.52      0.53        92\n",
      "\n",
      "    accuracy                           0.56       272\n",
      "   macro avg       0.56      0.56      0.56       272\n",
      "weighted avg       0.56      0.56      0.56       272\n",
      "\n"
     ]
    }
   ],
   "source": [
    "print(classification_report(y_test, y_pred_rf))"
   ]
  },
  {
   "cell_type": "code",
   "execution_count": 18,
   "id": "d649317b-d4df-4464-a922-1fb7f844a5b0",
   "metadata": {},
   "outputs": [
    {
     "data": {
      "image/png": "[encoded data removed]",
      "text/plain": [
       "<Figure size 640x480 with 2 Axes>"
      ]
     },
     "metadata": {},
     "output_type": "display_data"
    }
   ],
   "source": [
    "unique_labels = np.unique(y_test)\n",
    "ConfusionMatrixDisplay.from_predictions(y_test, y_pred_rf, display_labels=unique_labels)\n",
    "plt.show()"
   ]
  },
  {
   "cell_type": "markdown",
   "id": "f04468aa-5cab-468c-8880-f8387bceec30",
   "metadata": {},
   "source": [
    "# Hyperparameter Tuning"
   ]
  },
  {
   "cell_type": "code",
   "execution_count": 22,
   "id": "2a5401c8-84f1-440d-a7dd-3df89b557e97",
   "metadata": {},
   "outputs": [
    {
     "name": "stdout",
     "output_type": "stream",
     "text": [
      "Best parameters found:  {'n_estimators': 200, 'min_samples_split': 5, 'min_samples_leaf': 1, 'max_depth': 12, 'criterion': 'entropy'}\n"
     ]
    },
    {
     "name": "stderr",
     "output_type": "stream",
     "text": [
      "C:\\Users\\andre\\AppData\\Local\\Temp\\ipykernel_5556\\3798158344.py:36: DataConversionWarning: A column-vector y was passed when a 1d array was expected. Please change the shape of y to (n_samples,), for example using ravel().\n",
      "  random_forestcls_cv.fit(X_train_tfidf, y_train)\n"
     ]
    },
    {
     "name": "stdout",
     "output_type": "stream",
     "text": [
      "Data test\n",
      "              precision    recall  f1-score   support\n",
      "\n",
      "     negatif       0.55      0.69      0.61        89\n",
      "      netral       0.63      0.64      0.63        91\n",
      "     positif       0.61      0.47      0.53        92\n",
      "\n",
      "    accuracy                           0.60       272\n",
      "   macro avg       0.60      0.60      0.59       272\n",
      "weighted avg       0.60      0.60      0.59       272\n",
      "\n"
     ]
    },
    {
     "data": {
      "image/png": "[encoded data removed]",
      "text/plain": [
       "<Figure size 640x480 with 2 Axes>"
      ]
     },
     "metadata": {},
     "output_type": "display_data"
    },
    {
     "name": "stdout",
     "output_type": "stream",
     "text": [
      "Training Data Score: 0.8606299212598425\n",
      "Testing Data Score: 0.5955882352941176\n"
     ]
    }
   ],
   "source": [
    "# Parameter eksperimen\n",
    "random_param = {\n",
    "    \"max_depth\": [2, 3, 4, 5, 6, 7, 8, 9, 10, 11, 12],\n",
    "    'n_estimators': [50, 100, 200],\n",
    "    'min_samples_leaf': [1, 2, 4],\n",
    "    'min_samples_split': [2, 5, 10],\n",
    "    \"criterion\": [\"gini\", \"entropy\"]\n",
    "}\n",
    "\n",
    "# menggunakan randomizedsearch cv untuk cross validation\n",
    "random_forestcls = RandomizedSearchCV(estimator=RandomForestClassifier(random_state=123),\n",
    "                                      param_distributions=random_param,\n",
    "                                      n_iter=50,\n",
    "                                      cv=5,\n",
    "                                      scoring=\"accuracy\",\n",
    "                                      random_state=123)\n",
    "\n",
    "# fit pada data train\n",
    "random_forestcls.fit(X_train_tfidf, np.ravel(y_train))\n",
    "\n",
    "# cek parameter terbaik\n",
    "best_params = random_forestcls.best_params_\n",
    "print(\"Best parameters found: \", best_params)\n",
    "\n",
    "# buat model dengan definisi best params\n",
    "random_forestcls_cv = RandomForestClassifier(\n",
    "    max_depth=best_params[\"max_depth\"],\n",
    "    criterion=best_params[\"criterion\"],\n",
    "    n_estimators=best_params[\"n_estimators\"],\n",
    "    min_samples_leaf=best_params[\"min_samples_leaf\"],\n",
    "    min_samples_split=best_params[\"min_samples_split\"],\n",
    "    random_state=123\n",
    ")\n",
    "\n",
    "# Fit model pada data train\n",
    "random_forestcls_cv.fit(X_train_tfidf, y_train)\n",
    "\n",
    "# cek predict pada data test\n",
    "print(\"Data test\")\n",
    "predict_randomcls_cv = random_forestcls_cv.predict(X_test_tfidf)\n",
    "print(classification_report(y_test, predict_randomcls_cv))\n",
    "\n",
    "# Plot confusion matrix\n",
    "unique_labels = np.unique(y_test)\n",
    "ConfusionMatrixDisplay.from_predictions(y_test, predict_randomcls_cv, display_labels=unique_labels)\n",
    "plt.show()\n",
    "\n",
    "# Evaluasi model\n",
    "print(f\"Training Data Score: {random_forestcls_cv.score(X_train_tfidf, y_train)}\")\n",
    "print(f\"Testing Data Score: {random_forestcls_cv.score(X_test_tfidf, y_test)}\")"
   ]
  },
  {
   "cell_type": "code",
   "execution_count": 29,
   "id": "1389010c-2a3b-4a0f-a2d4-f2a5de1e3720",
   "metadata": {},
   "outputs": [
    {
     "data": {
      "text/plain": [
       "['random_forest_tuned.joblib']"
      ]
     },
     "execution_count": 29,
     "metadata": {},
     "output_type": "execute_result"
    }
   ],
   "source": [
    "# Save model\n",
    "dump(random_forestcls_cv, 'random_forest_tuned.joblib')"
   ]
  },
  {
   "cell_type": "code",
   "execution_count": null,
   "id": "f6058726-2335-4521-8f09-6571bf06e904",
   "metadata": {},
   "outputs": [],
   "source": [
    "# # Load model\n",
    "# random_forestcls_cv = load('random_forest_tuned.joblib')"
   ]
  }
 ],
 "metadata": {
  "kernelspec": {
   "display_name": "Python 3 (ipykernel)",
   "language": "python",
   "name": "python3"
  },
  "language_info": {
   "codemirror_mode": {
    "name": "ipython",
    "version": 3
   },
   "file_extension": ".py",
   "mimetype": "text/x-python",
   "name": "python",
   "nbconvert_exporter": "python",
   "pygments_lexer": "ipython3",
   "version": "3.10.0rc2"
  }
 },
 "nbformat": 4,
 "nbformat_minor": 5
}
